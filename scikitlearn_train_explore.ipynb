{
 "cells": [
  {
   "cell_type": "code",
   "execution_count": 206,
   "id": "b7f79022-642f-45f6-a6f3-4b5926f509ba",
   "metadata": {},
   "outputs": [],
   "source": [
    "import numpy as np\n",
    "from sklearn.model_selection import train_test_split\n",
    "from sklearn.neural_network import MLPClassifier\n",
    "from sklearn.metrics import multilabel_confusion_matrix\n",
    "import matplotlib.pyplot as plt"
   ]
  },
  {
   "cell_type": "code",
   "execution_count": 88,
   "id": "bf282dff-91cb-4e2f-b42d-f53dc54ff6af",
   "metadata": {},
   "outputs": [],
   "source": [
    "import decimal\n",
    "from decimal import Decimal\n",
    "decimal.getcontext().prec = 3"
   ]
  },
  {
   "cell_type": "code",
   "execution_count": 174,
   "id": "c7fcedb2-5cc5-4444-bdea-1e9abeba4e19",
   "metadata": {},
   "outputs": [],
   "source": [
    "path = \"size_9_games/v1/2005-2007.csv\"\n",
    "# path = \"size_9_games/v1/2006/2006-features.csv\"\n",
    "data = np.loadtxt(path, skiprows=1, delimiter=',')"
   ]
  },
  {
   "cell_type": "code",
   "execution_count": 175,
   "id": "b0d2a069-53c4-422f-9e09-d2b48164fd40",
   "metadata": {},
   "outputs": [
    {
     "data": {
      "text/plain": [
       "array([[0., 0., 0., ..., 0., 0., 0.],\n",
       "       [0., 0., 0., ..., 0., 0., 0.],\n",
       "       [0., 0., 0., ..., 0., 0., 0.],\n",
       "       ...,\n",
       "       [0., 0., 0., ..., 0., 0., 0.],\n",
       "       [0., 0., 0., ..., 0., 0., 0.],\n",
       "       [0., 0., 0., ..., 0., 0., 0.]])"
      ]
     },
     "execution_count": 175,
     "metadata": {},
     "output_type": "execute_result"
    }
   ],
   "source": [
    "# data"
   ]
  },
  {
   "cell_type": "code",
   "execution_count": 176,
   "id": "138ec20f-718f-4656-b38f-7f9e9d3dcb61",
   "metadata": {},
   "outputs": [
    {
     "data": {
      "text/plain": [
       "(930609, 323)"
      ]
     },
     "execution_count": 176,
     "metadata": {},
     "output_type": "execute_result"
    }
   ],
   "source": [
    "rows, cols = np.shape(data)\n",
    "n_targets = 82\n",
    "np.shape(data)"
   ]
  },
  {
   "cell_type": "code",
   "execution_count": 177,
   "id": "e48042f8-14e0-4421-b00d-c3d0e30a30ae",
   "metadata": {},
   "outputs": [],
   "source": [
    "\n",
    "X = data[:,0:cols-n_targets]\n",
    "y = data[:,cols-n_targets:]"
   ]
  },
  {
   "cell_type": "code",
   "execution_count": 178,
   "id": "cb15efaa-3caf-4a2c-a30a-4b7ba844a02d",
   "metadata": {},
   "outputs": [
    {
     "data": {
      "text/plain": [
       "(930609, 241)"
      ]
     },
     "execution_count": 178,
     "metadata": {},
     "output_type": "execute_result"
    }
   ],
   "source": [
    "np.shape(X)"
   ]
  },
  {
   "cell_type": "code",
   "execution_count": 179,
   "id": "02134432-682c-46d2-a767-cc20ea5566cf",
   "metadata": {},
   "outputs": [
    {
     "data": {
      "text/plain": [
       "(930609, 82)"
      ]
     },
     "execution_count": 179,
     "metadata": {},
     "output_type": "execute_result"
    }
   ],
   "source": [
    "np.shape(y)"
   ]
  },
  {
   "cell_type": "code",
   "execution_count": 180,
   "id": "e9259e39-45cb-46cf-b106-1b35b932df4f",
   "metadata": {},
   "outputs": [],
   "source": [
    "X_traintest, X_cv, y_traintest, y_cv = train_test_split(X, y, test_size=0.2) #20% for cross validation\n",
    "X_train, X_test, y_train, y_test = train_test_split(X_traintest, y_traintest, test_size=0.25) #60% for train and 20% for test because 0.8 * 0.25 = 0.2"
   ]
  },
  {
   "cell_type": "code",
   "execution_count": 181,
   "id": "63425c96-0a61-4e6c-8db7-5dcb6243167d",
   "metadata": {},
   "outputs": [
    {
     "data": {
      "text/plain": [
       "(558365, 241)"
      ]
     },
     "execution_count": 181,
     "metadata": {},
     "output_type": "execute_result"
    }
   ],
   "source": [
    "np.shape(X_train)"
   ]
  },
  {
   "cell_type": "code",
   "execution_count": 182,
   "id": "000a80eb-29cb-4c36-95b6-f72ba3070ab4",
   "metadata": {},
   "outputs": [
    {
     "data": {
      "text/plain": [
       "(186122, 241)"
      ]
     },
     "execution_count": 182,
     "metadata": {},
     "output_type": "execute_result"
    }
   ],
   "source": [
    "np.shape(X_test)"
   ]
  },
  {
   "cell_type": "code",
   "execution_count": 191,
   "id": "3d13dc3f-f1ef-481a-8629-67fa23cd0380",
   "metadata": {},
   "outputs": [],
   "source": [
    "# NOTE: with 1 million data points in X_train, on a 1 hidden layer 100 node NN, with early_stopping = true, this took between 3-5 minutes.\n",
    "# With 500k datapoints on a 300 x 2 hidden layer NN, with early stopping, this took less than 5 minutes:\n",
    "clf = MLPClassifier(random_state=1,hidden_layer_sizes=(300,2), early_stopping=True).fit(X_train, y_train)"
   ]
  },
  {
   "cell_type": "code",
   "execution_count": 192,
   "id": "6c03b149-e418-4f2d-93aa-5f3774ee62bd",
   "metadata": {},
   "outputs": [
    {
     "data": {
      "text/plain": [
       "0.0"
      ]
     },
     "execution_count": 192,
     "metadata": {},
     "output_type": "execute_result"
    }
   ],
   "source": [
    "clf.score(X_test, y_test)"
   ]
  },
  {
   "cell_type": "code",
   "execution_count": 200,
   "id": "e041339c-9fea-4c38-9a34-1db573bfdd5f",
   "metadata": {},
   "outputs": [],
   "source": [
    "probs = clf.predict_proba(X_test)\n",
    "predicts = clf.predict(X_test)\n",
    "test_rows, test_cols = np.shape(predicts)"
   ]
  },
  {
   "cell_type": "code",
   "execution_count": 201,
   "id": "f723be6f-23f5-48dd-81b3-cc366c1bfa45",
   "metadata": {},
   "outputs": [
    {
     "data": {
      "text/plain": [
       "(186122, 82)"
      ]
     },
     "execution_count": 201,
     "metadata": {},
     "output_type": "execute_result"
    }
   ],
   "source": [
    "np.shape(predicts)"
   ]
  },
  {
   "cell_type": "code",
   "execution_count": null,
   "id": "d9de5435-78d5-491e-ad92-fb1b6e9305ea",
   "metadata": {},
   "outputs": [],
   "source": []
  },
  {
   "cell_type": "code",
   "execution_count": 195,
   "id": "f6d20957-dc8b-4f3b-8248-f5df74c2742e",
   "metadata": {},
   "outputs": [],
   "source": [
    "top5 = 0\n",
    "top3 = 0\n",
    "top1 = 0\n",
    "for i, row in enumerate(probs):\n",
    "    # print(np.shape(row))\n",
    "    \n",
    "    ind = np.argpartition(row, -5)[-5:]\n",
    "    y_target = np.argmax(y_test[i])\n",
    "    \n",
    "    if y_target == ind[-1]:\n",
    "        top1 += 1\n",
    "        top3 += 1\n",
    "        top5 += 1\n",
    "        continue\n",
    "    # print(ind[2:])\n",
    "    \n",
    "    if y_target in ind[2:]:\n",
    "        top3 += 1\n",
    "        top5 += 1\n",
    "        continue\n",
    "\n",
    "    if y_target in ind[0:2]:\n",
    "        top5 += 1\n",
    "    \n",
    "    # print(y_targ)\n",
    "    # print(ind)\n",
    "    \n",
    "    # print(row)\n",
    "    # print(maxes)\n",
    "    # print(row[ind])\n",
    "    # if i > 0: \n",
    "    #     break\n"
   ]
  },
  {
   "cell_type": "code",
   "execution_count": 196,
   "id": "6e3c5c1d-edf2-4f16-a524-a423fba06093",
   "metadata": {},
   "outputs": [],
   "source": [
    "def get_tops(probabilities,testset):\n",
    "    top5 = 0\n",
    "    top3 = 0\n",
    "    top1 = 0\n",
    "    for i, row in enumerate(probabilities):\n",
    "        # print(i)\n",
    "        \n",
    "        ind = np.argpartition(row, -5)[-5:]\n",
    "        # print(ind)\n",
    "        y_target = np.argmax(testset[i])\n",
    "        \n",
    "        if y_target == ind[-1]:\n",
    "            top1 += 1\n",
    "            top3 += 1\n",
    "            top5 += 1\n",
    "            continue\n",
    "        \n",
    "        if y_target in ind[2:]:\n",
    "            top3 += 1\n",
    "            top5 += 1\n",
    "            continue\n",
    "    \n",
    "        if y_target in ind[0:2]:\n",
    "            top5 += 1\n",
    "    # print(top5)\n",
    "    return (top1, top3, top5)\n",
    "\n"
   ]
  },
  {
   "cell_type": "code",
   "execution_count": 197,
   "id": "bdd1d9e0-c413-47ea-8d52-e0eeae5f88f3",
   "metadata": {},
   "outputs": [
    {
     "name": "stdout",
     "output_type": "stream",
     "text": [
      "top 5: 18259 0.0981\n",
      "top 3: 11740 0.0631\n",
      "top 1: 4150 0.0223\n",
      "top 5: 18259 0.0981\n",
      "top 3: 11740 0.0631\n",
      "top 1: 4150 0.0223\n"
     ]
    }
   ],
   "source": [
    "print(f\"top 5: {top5} {Decimal(top5)/Decimal(test_rows)}\")\n",
    "print(f\"top 3: {top3} {Decimal(top3)/Decimal(test_rows)}\")\n",
    "print(f\"top 1: {top1} {Decimal(top1)/Decimal(test_rows)}\")\n",
    "t1, t3, t5 = get_tops(probs, y_test)\n",
    "print(f\"top 5: {t5} {Decimal(t5)/Decimal(test_rows)}\")\n",
    "print(f\"top 3: {t3} {Decimal(t3)/Decimal(test_rows)}\")\n",
    "print(f\"top 1: {t1} {Decimal(t1)/Decimal(test_rows)}\")"
   ]
  },
  {
   "cell_type": "code",
   "execution_count": 198,
   "id": "49a103dd-40d5-4f7f-9a37-7efbf357573c",
   "metadata": {},
   "outputs": [
    {
     "data": {
      "text/plain": [
       "[<matplotlib.lines.Line2D at 0x16badca90>]"
      ]
     },
     "execution_count": 198,
     "metadata": {},
     "output_type": "execute_result"
    },
    {
     "data": {
      "image/png": "[encoded data removed]",
      "text/plain": [
       "<Figure size 640x480 with 1 Axes>"
      ]
     },
     "metadata": {},
     "output_type": "display_data"
    }
   ],
   "source": [
    "plt.plot(clf.loss_curve_)\n",
    "plt.plot(clf.validation_scores_)"
   ]
  },
  {
   "cell_type": "code",
   "execution_count": 203,
   "id": "a838e31e-dcff-4d44-819c-4359e7e2a99d",
   "metadata": {},
   "outputs": [],
   "source": [
    "# alphas = [0.0001, 0.0003, 0.001, 0.003, 0.01, 0.03, 0.1]\n",
    "# cur_max_top_1 = 0\n",
    "# top_model = None\n",
    "# top_alpha = 0\n",
    "# for alpha in alphas:\n",
    "#     mlp = MLPClassifier(random_state=1,early_stopping=False, alpha=alpha).fit(X_train, y_train)\n",
    "#     probabilities = mlp.predict_proba(X_test)\n",
    "    \n",
    "#     top1, top3, top5 = get_tops(probabilities, y_test)\n",
    "#     print(top1)\n",
    "    \n",
    "#     if top1 > cur_max_top_1:\n",
    "#         cur_max_top_1 = top1\n",
    "#         top_model = mlp\n",
    "#         top_alpha = alpha\n",
    "# plt.plot(mlp.loss_curve_)\n",
    "# plt.plot(mlp.validation_scores_)      "
   ]
  },
  {
   "cell_type": "code",
   "execution_count": 208,
   "id": "65202f91-a374-4aa5-9f73-72041b326bf8",
   "metadata": {},
   "outputs": [],
   "source": [
    "predictions = clf.predict(X_cv)    \n",
    "cm = multilabel_confusion_matrix(y_cv, predictions)\n",
    "# print(top_alpha)\n",
    "\n"
   ]
  },
  {
   "cell_type": "code",
   "execution_count": 212,
   "id": "6acd2b5e-40a5-4e1f-9072-fbf90e885b29",
   "metadata": {},
   "outputs": [
    {
     "data": {
      "text/plain": [
       "(2, 2)"
      ]
     },
     "execution_count": 212,
     "metadata": {},
     "output_type": "execute_result"
    }
   ],
   "source": [
    "np.shape(cm[0])"
   ]
  },
  {
   "cell_type": "code",
   "execution_count": 213,
   "id": "2d117d03-4dd2-46d7-9ddd-9c0a1324a52c",
   "metadata": {},
   "outputs": [],
   "source": [
    "tn, fp, fn, tp = cm[0].ravel()"
   ]
  },
  {
   "cell_type": "code",
   "execution_count": 214,
   "id": "839b51fa-43dc-4bbb-bb9b-7cdb96ebdc42",
   "metadata": {},
   "outputs": [
    {
     "data": {
      "text/plain": [
       "185523"
      ]
     },
     "execution_count": 214,
     "metadata": {},
     "output_type": "execute_result"
    }
   ],
   "source": [
    "tn"
   ]
  },
  {
   "cell_type": "code",
   "execution_count": 215,
   "id": "4957993b-c84c-41ee-94db-fc451b45f045",
   "metadata": {},
   "outputs": [
    {
     "data": {
      "text/plain": [
       "0"
      ]
     },
     "execution_count": 215,
     "metadata": {},
     "output_type": "execute_result"
    }
   ],
   "source": [
    "tp"
   ]
  },
  {
   "cell_type": "code",
   "execution_count": 216,
   "id": "ccf7e1f7-4fa5-4d3f-bd70-8a0a4d05e329",
   "metadata": {},
   "outputs": [
    {
     "data": {
      "text/plain": [
       "0"
      ]
     },
     "execution_count": 216,
     "metadata": {},
     "output_type": "execute_result"
    }
   ],
   "source": [
    "fp"
   ]
  },
  {
   "cell_type": "code",
   "execution_count": 217,
   "id": "4573f041-dc07-4de1-905c-ac1aabe09852",
   "metadata": {},
   "outputs": [
    {
     "data": {
      "text/plain": [
       "599"
      ]
     },
     "execution_count": 217,
     "metadata": {},
     "output_type": "execute_result"
    }
   ],
   "source": [
    "fn"
   ]
  },
  {
   "cell_type": "code",
   "execution_count": null,
   "id": "526095bb-e72b-4762-bb98-d049d076b07b",
   "metadata": {},
   "outputs": [],
   "source": []
  }
 ],
 "metadata": {
  "kernelspec": {
   "display_name": "Python 3 (ipykernel)",
   "language": "python",
   "name": "python3"
  },
  "language_info": {
   "codemirror_mode": {
    "name": "ipython",
    "version": 3
   },
   "file_extension": ".py",
   "mimetype": "text/x-python",
   "name": "python",
   "nbconvert_exporter": "python",
   "pygments_lexer": "ipython3",
   "version": "3.11.5"
  }
 },
 "nbformat": 4,
 "nbformat_minor": 5
}
