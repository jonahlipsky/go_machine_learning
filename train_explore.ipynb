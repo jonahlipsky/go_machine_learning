{
 "cells": [
  {
   "cell_type": "code",
   "execution_count": 91,
   "id": "b7f79022-642f-45f6-a6f3-4b5926f509ba",
   "metadata": {},
   "outputs": [],
   "source": [
    "import numpy as np\n",
    "from sklearn.model_selection import train_test_split\n",
    "from sklearn.neural_network import MLPClassifier\n",
    "import matplotlib.pyplot as plt"
   ]
  },
  {
   "cell_type": "code",
   "execution_count": 88,
   "id": "bf282dff-91cb-4e2f-b42d-f53dc54ff6af",
   "metadata": {},
   "outputs": [],
   "source": [
    "import decimal\n",
    "from decimal import Decimal\n",
    "decimal.getcontext().prec = 3"
   ]
  },
  {
   "cell_type": "code",
   "execution_count": 8,
   "id": "c7fcedb2-5cc5-4444-bdea-1e9abeba4e19",
   "metadata": {},
   "outputs": [],
   "source": [
    "path = \"size_9_games/v1/2006/2006-features.csv\"\n",
    "data = np.loadtxt(path, skiprows=1, delimiter=',')"
   ]
  },
  {
   "cell_type": "code",
   "execution_count": 9,
   "id": "b0d2a069-53c4-422f-9e09-d2b48164fd40",
   "metadata": {},
   "outputs": [
    {
     "data": {
      "text/plain": [
       "array([[0., 0., 0., ..., 0., 0., 0.],\n",
       "       [0., 0., 0., ..., 0., 0., 0.],\n",
       "       [0., 0., 0., ..., 0., 0., 0.],\n",
       "       ...,\n",
       "       [0., 0., 0., ..., 0., 0., 0.],\n",
       "       [0., 0., 0., ..., 0., 0., 0.],\n",
       "       [0., 0., 0., ..., 0., 0., 0.]])"
      ]
     },
     "execution_count": 9,
     "metadata": {},
     "output_type": "execute_result"
    }
   ],
   "source": [
    "data"
   ]
  },
  {
   "cell_type": "code",
   "execution_count": 13,
   "id": "138ec20f-718f-4656-b38f-7f9e9d3dcb61",
   "metadata": {},
   "outputs": [
    {
     "data": {
      "text/plain": [
       "(72854, 323)"
      ]
     },
     "execution_count": 13,
     "metadata": {},
     "output_type": "execute_result"
    }
   ],
   "source": [
    "rows, cols = np.shape(data)\n",
    "n_targets = 82\n",
    "np.shape(data)"
   ]
  },
  {
   "cell_type": "code",
   "execution_count": 29,
   "id": "e48042f8-14e0-4421-b00d-c3d0e30a30ae",
   "metadata": {},
   "outputs": [],
   "source": [
    "\n",
    "X = data[:,0:cols-n_targets]\n",
    "y = data[:,cols-n_targets:]"
   ]
  },
  {
   "cell_type": "code",
   "execution_count": 30,
   "id": "cb15efaa-3caf-4a2c-a30a-4b7ba844a02d",
   "metadata": {},
   "outputs": [
    {
     "data": {
      "text/plain": [
       "(72854, 241)"
      ]
     },
     "execution_count": 30,
     "metadata": {},
     "output_type": "execute_result"
    }
   ],
   "source": [
    "np.shape(X)"
   ]
  },
  {
   "cell_type": "code",
   "execution_count": 31,
   "id": "02134432-682c-46d2-a767-cc20ea5566cf",
   "metadata": {},
   "outputs": [
    {
     "data": {
      "text/plain": [
       "(72854, 82)"
      ]
     },
     "execution_count": 31,
     "metadata": {},
     "output_type": "execute_result"
    }
   ],
   "source": [
    "np.shape(y)"
   ]
  },
  {
   "cell_type": "code",
   "execution_count": 42,
   "id": "e9259e39-45cb-46cf-b106-1b35b932df4f",
   "metadata": {},
   "outputs": [],
   "source": [
    "X_traintest, X_cv, y_traintest, y_cv = train_test_split(X, y, test_size=0.2) #20% for cross validation\n",
    "X_train, X_test, y_train, y_test = train_test_split(X_traintest, y_traintest, test_size=0.25) #60% for train and 20% for test because 0.8 * 0.25 = 0.2"
   ]
  },
  {
   "cell_type": "code",
   "execution_count": 43,
   "id": "63425c96-0a61-4e6c-8db7-5dcb6243167d",
   "metadata": {},
   "outputs": [
    {
     "data": {
      "text/plain": [
       "(43712, 241)"
      ]
     },
     "execution_count": 43,
     "metadata": {},
     "output_type": "execute_result"
    }
   ],
   "source": [
    "np.shape(X_train)"
   ]
  },
  {
   "cell_type": "code",
   "execution_count": 44,
   "id": "000a80eb-29cb-4c36-95b6-f72ba3070ab4",
   "metadata": {},
   "outputs": [
    {
     "data": {
      "text/plain": [
       "(14571, 241)"
      ]
     },
     "execution_count": 44,
     "metadata": {},
     "output_type": "execute_result"
    }
   ],
   "source": [
    "np.shape(X_test)"
   ]
  },
  {
   "cell_type": "code",
   "execution_count": 94,
   "id": "3d13dc3f-f1ef-481a-8629-67fa23cd0380",
   "metadata": {},
   "outputs": [],
   "source": [
    "clf = MLPClassifier(random_state=1,early_stopping=True).fit(X_train, y_train)"
   ]
  },
  {
   "cell_type": "code",
   "execution_count": 95,
   "id": "6c03b149-e418-4f2d-93aa-5f3774ee62bd",
   "metadata": {},
   "outputs": [
    {
     "data": {
      "text/plain": [
       "0.0"
      ]
     },
     "execution_count": 95,
     "metadata": {},
     "output_type": "execute_result"
    }
   ],
   "source": [
    "clf.score(X_test, y_test)"
   ]
  },
  {
   "cell_type": "code",
   "execution_count": 96,
   "id": "e041339c-9fea-4c38-9a34-1db573bfdd5f",
   "metadata": {},
   "outputs": [],
   "source": [
    "probs = clf.predict_proba(X_test)\n",
    "test_rows, test_cols = np.shape(probs)"
   ]
  },
  {
   "cell_type": "code",
   "execution_count": 97,
   "id": "f723be6f-23f5-48dd-81b3-cc366c1bfa45",
   "metadata": {},
   "outputs": [
    {
     "data": {
      "text/plain": [
       "(14571, 82)"
      ]
     },
     "execution_count": 97,
     "metadata": {},
     "output_type": "execute_result"
    }
   ],
   "source": [
    "np.shape(probs)"
   ]
  },
  {
   "cell_type": "code",
   "execution_count": 114,
   "id": "f6d20957-dc8b-4f3b-8248-f5df74c2742e",
   "metadata": {},
   "outputs": [],
   "source": [
    "top5 = 0\n",
    "top3 = 0\n",
    "top1 = 0\n",
    "for i, row in enumerate(probs):\n",
    "    # print(np.shape(row))\n",
    "    \n",
    "    ind = np.argpartition(row, -5)[-5:]\n",
    "    y_target = np.argmax(y_test[i])\n",
    "    \n",
    "    if y_target == ind[-1]:\n",
    "        top1 += 1\n",
    "        top3 += 1\n",
    "        top5 += 1\n",
    "        continue\n",
    "    # print(ind[2:])\n",
    "    \n",
    "    if y_target in ind[2:]:\n",
    "        top3 += 1\n",
    "        top5 += 1\n",
    "        continue\n",
    "\n",
    "    if y_target in ind[0:2]:\n",
    "        top5 += 1\n",
    "    \n",
    "    # print(y_targ)\n",
    "    # print(ind)\n",
    "    \n",
    "    # print(row)\n",
    "    # print(maxes)\n",
    "    # print(row[ind])\n",
    "    # if i > 0: \n",
    "    #     break\n"
   ]
  },
  {
   "cell_type": "code",
   "execution_count": 117,
   "id": "6e3c5c1d-edf2-4f16-a524-a423fba06093",
   "metadata": {},
   "outputs": [
    {
     "name": "stdout",
     "output_type": "stream",
     "text": [
      "(196, 565, 825)\n"
     ]
    }
   ],
   "source": [
    "def get_tops(probabilities,testset):\n",
    "    top5 = 0\n",
    "    top3 = 0\n",
    "    top1 = 0\n",
    "    for i, row in enumerate(probabilities):\n",
    "        # print(i)\n",
    "        \n",
    "        ind = np.argpartition(row, -5)[-5:]\n",
    "        # print(ind)\n",
    "        y_target = np.argmax(testset[i])\n",
    "        \n",
    "        if y_target == ind[-1]:\n",
    "            top1 += 1\n",
    "            top3 += 1\n",
    "            top5 += 1\n",
    "            continue\n",
    "        \n",
    "        if y_target in ind[2:]:\n",
    "            top3 += 1\n",
    "            top5 += 1\n",
    "            continue\n",
    "    \n",
    "        if y_target in ind[0:2]:\n",
    "            top5 += 1\n",
    "    # print(top5)\n",
    "    return (top1, top3, top5)\n",
    "\n"
   ]
  },
  {
   "cell_type": "code",
   "execution_count": 118,
   "id": "bdd1d9e0-c413-47ea-8d52-e0eeae5f88f3",
   "metadata": {},
   "outputs": [
    {
     "name": "stdout",
     "output_type": "stream",
     "text": [
      "top 5: 825 0.0566\n",
      "top 3: 565 0.0388\n",
      "top 1: 196 0.0135\n",
      "top 5: 825 0.0566\n",
      "top 3: 565 0.0388\n",
      "top 1: 196 0.0135\n"
     ]
    }
   ],
   "source": [
    "print(f\"top 5: {top5} {Decimal(top5)/Decimal(test_rows)}\")\n",
    "print(f\"top 3: {top3} {Decimal(top3)/Decimal(test_rows)}\")\n",
    "print(f\"top 1: {top1} {Decimal(top1)/Decimal(test_rows)}\")\n",
    "t1, t3, t5 = get_tops(probs, y_test)\n",
    "print(f\"top 5: {t5} {Decimal(t5)/Decimal(test_rows)}\")\n",
    "print(f\"top 3: {t3} {Decimal(t3)/Decimal(test_rows)}\")\n",
    "print(f\"top 1: {t1} {Decimal(t1)/Decimal(test_rows)}\")"
   ]
  },
  {
   "cell_type": "code",
   "execution_count": 131,
   "id": "49a103dd-40d5-4f7f-9a37-7efbf357573c",
   "metadata": {},
   "outputs": [
    {
     "data": {
      "text/plain": [
       "[<matplotlib.lines.Line2D at 0x2eaf60c90>]"
      ]
     },
     "execution_count": 131,
     "metadata": {},
     "output_type": "execute_result"
    },
    {
     "data": {
      "image/png": "[encoded data removed]",
      "text/plain": [
       "<Figure size 640x480 with 1 Axes>"
      ]
     },
     "metadata": {},
     "output_type": "display_data"
    }
   ],
   "source": [
    "plt.plot(clf.loss_curve_)\n",
    "plt.plot(clf.validation_scores_)"
   ]
  },
  {
   "cell_type": "code",
   "execution_count": 127,
   "id": "a838e31e-dcff-4d44-819c-4359e7e2a99d",
   "metadata": {},
   "outputs": [
    {
     "name": "stdout",
     "output_type": "stream",
     "text": [
      "196\n",
      "127\n",
      "80\n",
      "127\n",
      "127\n",
      "127\n",
      "127\n"
     ]
    },
    {
     "data": {
      "text/plain": [
       "[<matplotlib.lines.Line2D at 0x2eb9b5610>]"
      ]
     },
     "execution_count": 127,
     "metadata": {},
     "output_type": "execute_result"
    },
    {
     "data": {
      "image/png": "[encoded data removed]",
      "text/plain": [
       "<Figure size 640x480 with 1 Axes>"
      ]
     },
     "metadata": {},
     "output_type": "display_data"
    }
   ],
   "source": [
    "alphas = [0.0001, 0.0003, 0.001, 0.003, 0.01, 0.03, 0.1]\n",
    "cur_max_top_1 = 0\n",
    "top_model = None\n",
    "top_alpha = 0\n",
    "for alpha in alphas:\n",
    "    mlp = MLPClassifier(random_state=1,early_stopping=True, alpha=alpha).fit(X_train, y_train)\n",
    "    probabilities = mlp.predict_proba(X_test)\n",
    "    \n",
    "    top1, top3, top5 = get_tops(probabilities, y_test)\n",
    "    print(top1)\n",
    "    \n",
    "    if top1 > cur_max_top_1:\n",
    "        cur_max_top_1 = top1\n",
    "        top_model = mlp\n",
    "        top_alpha = alpha\n",
    "plt.plot(mlp.loss_curve_)\n",
    "plt.plot(mlp.validation_scores_)      "
   ]
  },
  {
   "cell_type": "code",
   "execution_count": 134,
   "id": "65202f91-a374-4aa5-9f73-72041b326bf8",
   "metadata": {},
   "outputs": [
    {
     "name": "stdout",
     "output_type": "stream",
     "text": [
      "(238, 580, 851)\n",
      "0.0001\n"
     ]
    }
   ],
   "source": [
    "probabilities = top_model.predict_proba(X_cv)    \n",
    "print(get_tops(probabilities, y_cv))\n",
    "print(top_alpha)\n",
    "\n"
   ]
  },
  {
   "cell_type": "code",
   "execution_count": null,
   "id": "6acd2b5e-40a5-4e1f-9072-fbf90e885b29",
   "metadata": {},
   "outputs": [],
   "source": []
  }
 ],
 "metadata": {
  "kernelspec": {
   "display_name": "Python 3 (ipykernel)",
   "language": "python",
   "name": "python3"
  },
  "language_info": {
   "codemirror_mode": {
    "name": "ipython",
    "version": 3
   },
   "file_extension": ".py",
   "mimetype": "text/x-python",
   "name": "python",
   "nbconvert_exporter": "python",
   "pygments_lexer": "ipython3",
   "version": "3.11.5"
  }
 },
 "nbformat": 4,
 "nbformat_minor": 5
}
